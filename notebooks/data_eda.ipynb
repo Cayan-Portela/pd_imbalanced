{
 "cells": [
  {
   "cell_type": "code",
   "execution_count": 1,
   "metadata": {},
   "outputs": [],
   "source": [
    "import pandas as pd\n",
    "import numpy as np"
   ]
  },
  {
   "cell_type": "code",
   "execution_count": 7,
   "metadata": {},
   "outputs": [
    {
     "name": "stdout",
     "output_type": "stream",
     "text": [
      "/home/cayan/Documentos/Trabalhos/pd_imbalanced/notebooks\n"
     ]
    }
   ],
   "source": [
    "import sys,os\n",
    "print(os.getcwd())"
   ]
  },
  {
   "cell_type": "code",
   "execution_count": 2,
   "metadata": {},
   "outputs": [],
   "source": [
    "# Classifier Libraries\n",
    "from sklearn.svm import SVC\n",
    "from sklearn.tree import DecisionTreeClassifier\n",
    "from sklearn.neighbors import KNeighborsClassifier\n",
    "from sklearn.linear_model import LogisticRegression\n",
    "from sklearn.ensemble import RandomForestClassifier, GradientBoostingClassifier\n",
    "\n",
    "from sklearn.compose import ColumnTransformer\n",
    "from sklearn.preprocessing import StandardScaler, OneHotEncoder\n",
    "from sklearn.model_selection import train_test_split, cross_validate, RandomizedSearchCV, GridSearchCV, KFold, StratifiedKFold\n",
    "from sklearn.metrics import precision_score, recall_score, f1_score, roc_auc_score, accuracy_score, classification_report\n",
    "\n",
    "#import collections\n",
    "\n",
    "# Other Libraries\n",
    "from imblearn.pipeline import make_pipeline as imbalanced_make_pipeline\n",
    "from imblearn.over_sampling import SMOTE\n",
    "from imblearn.combine import SMOTETomek\n",
    "from imblearn.under_sampling import NearMiss, RandomUnderSampler\n",
    "from imblearn.ensemble import BalancedBaggingClassifier, BalancedRandomForestClassifier\n",
    "from imblearn.metrics import classification_report_imbalanced\n",
    "from imblearn.pipeline import Pipeline as imb_pipelineb\n",
    "from imblearn.combine import SMOTETomek\n",
    "from imblearn.pipeline import Pipeline as imb_pipeline\n",
    "from imblearn.under_sampling import TomekLinks"
   ]
  },
  {
   "cell_type": "code",
   "execution_count": 3,
   "metadata": {},
   "outputs": [],
   "source": [
    "# GroupTimeSeriesSplit\n",
    "from mlxtend.evaluate.time_series import (\n",
    "    GroupTimeSeriesSplit,\n",
    "    plot_splits,\n",
    "    print_cv_info,\n",
    "    print_split_info\n",
    ")"
   ]
  },
  {
   "cell_type": "code",
   "execution_count": 4,
   "metadata": {},
   "outputs": [],
   "source": [
    "from src.data.load_data import read_params, read_data"
   ]
  },
  {
   "cell_type": "code",
   "execution_count": 13,
   "metadata": {},
   "outputs": [],
   "source": [
    "from IPython.core.interactiveshell import InteractiveShell\n",
    "InteractiveShell.ast_node_interactivity = \"all\"\n",
    "\n",
    "pd.set_option('display.max_columns', 50)\n",
    "pd.set_option('display.max_rows', 200)\n",
    "pd.options.display.float_format = '{:.2f}'.format"
   ]
  },
  {
   "cell_type": "code",
   "execution_count": 5,
   "metadata": {},
   "outputs": [],
   "source": [
    "config = read_params(config_path=\"../params.yaml\")\n",
    "\n",
    "safra_config = config[\"proc_data_config\"][\"safra_config\"]\n",
    "shuffle_config = config[\"proc_data_config\"][\"shuffle_config\"]"
   ]
  },
  {
   "cell_type": "code",
   "execution_count": 6,
   "metadata": {},
   "outputs": [],
   "source": [
    "x_safra_train = read_data('../'  + safra_config[\"x_train_csv\"])\n",
    "y_safra_train = read_data('../'  + safra_config[\"y_train_csv\"])\n",
    "\n",
    "x_shuffle_train = read_data('../'  + shuffle_config[\"x_train_csv\"])\n",
    "y_shuffle_train = read_data('../'  + shuffle_config[\"y_train_csv\"])"
   ]
  },
  {
   "cell_type": "code",
   "execution_count": 8,
   "metadata": {},
   "outputs": [],
   "source": [
    "from src.models.parameters import (\n",
    "    # safra\n",
    "    safra_best_parameters_bbagg,\n",
    "    safra_best_parameters_smote,\n",
    "    safra_best_parameters_tomek,\n",
    "    # shuffle\n",
    "    shuffle_best_parameters_bbagg,\n",
    "    shuffle_best_parameters_smote,\n",
    "    shuffle_best_parameters_tomek\n",
    ")"
   ]
  },
  {
   "cell_type": "code",
   "execution_count": 14,
   "metadata": {},
   "outputs": [],
   "source": [
    "safra_split = {\n",
    "        'safra_bbagg': safra_best_parameters_bbagg,\n",
    "        'safra_smote': safra_best_parameters_smote,\n",
    "        'safra_tomek': safra_best_parameters_tomek\n",
    "}\n",
    "\n",
    "shuffle_split = {\n",
    "        'shuffle_bbagg': shuffle_best_parameters_bbagg,\n",
    "        'shuffle_smote': shuffle_best_parameters_smote,\n",
    "        'shuffle_tomek': shuffle_best_parameters_tomek\n",
    "}"
   ]
  },
  {
   "cell_type": "code",
   "execution_count": 16,
   "metadata": {},
   "outputs": [],
   "source": [
    "juntos = [safra_split, shuffle_split]"
   ]
  },
  {
   "cell_type": "code",
   "execution_count": 10,
   "metadata": {},
   "outputs": [],
   "source": [
    "step_cen = {\n",
    "        \"pass\": (\"pass\", \"passthrough\", [0]),\n",
    "        \"onehot_instrucao\": (\"cat\", OneHotEncoder(), [1]),\n",
    "        \"std_all\": (\"num\", StandardScaler(), [2, 3, 4, 5, 6]),\n",
    "        \"std_not_idade\": (\"num\", StandardScaler(), [3, 4, 5, 6])\n",
    "    }\n",
    "\n",
    "preproc_i = ColumnTransformer(\n",
    "            transformers=[step_cen[\"pass\"], step_cen[\"onehot_instrucao\"], step_cen[\"std_all\"]],\n",
    "            remainder=\"drop\"\n",
    "            )"
   ]
  }
 ],
 "metadata": {
  "kernelspec": {
   "display_name": "pyenv_pd_imb",
   "language": "python",
   "name": "python3"
  },
  "language_info": {
   "codemirror_mode": {
    "name": "ipython",
    "version": 3
   },
   "file_extension": ".py",
   "mimetype": "text/x-python",
   "name": "python",
   "nbconvert_exporter": "python",
   "pygments_lexer": "ipython3",
   "version": "3.10.0"
  },
  "orig_nbformat": 4,
  "vscode": {
   "interpreter": {
    "hash": "d688fb2bd1e811ee526dceea84d122afc0917f74fdea3088a1f573b5fc95bda6"
   }
  }
 },
 "nbformat": 4,
 "nbformat_minor": 2
}
